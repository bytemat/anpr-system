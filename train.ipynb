{
 "cells": [
  {
   "cell_type": "markdown",
   "metadata": {},
   "source": [
    "# Training YOLOv8 for License Plate Recognition\n",
    "This notebook trains a YOLOv8 model to recognize vehicle license plates in Paraguay and generates the corresponding weights."
   ]
  },
  {
   "cell_type": "markdown",
   "metadata": {},
   "source": [
    "Libraries to split the dataset into train, val and test"
   ]
  },
  {
   "cell_type": "code",
   "execution_count": 12,
   "metadata": {},
   "outputs": [],
   "source": [
    "import os\n",
    "import shutil\n",
    "import random"
   ]
  },
  {
   "cell_type": "markdown",
   "metadata": {},
   "source": [
    "Function to split the dataset into train, val and test"
   ]
  },
  {
   "cell_type": "code",
   "execution_count": 13,
   "metadata": {},
   "outputs": [],
   "source": [
    "def split_dataset(images_path, labels_path, train_images_path, train_labels_path, val_images_path, val_labels_path, test_images_path, test_labels_path, train_ratio=0.8, val_ratio=0.1, test_ratio=0.1):\n",
    "    os.makedirs(train_images_path, exist_ok=True)\n",
    "    os.makedirs(train_labels_path, exist_ok=True)\n",
    "    os.makedirs(val_images_path, exist_ok=True)\n",
    "    os.makedirs(val_labels_path, exist_ok=True)\n",
    "    os.makedirs(test_images_path, exist_ok=True)\n",
    "    os.makedirs(test_labels_path, exist_ok=True)\n",
    "\n",
    "    image_files = [f for f in os.listdir(images_path) if f.lower().endswith(('.png', '.jpg', '.jpeg', '.gif', '.bmp'))]\n",
    "    random.shuffle(image_files)\n",
    "\n",
    "    total_size = len(image_files)\n",
    "    train_size = int(total_size * train_ratio)\n",
    "    val_size = int(total_size * val_ratio)\n",
    "\n",
    "    train_images = image_files[:train_size]\n",
    "    val_images = image_files[train_size:train_size + val_size]\n",
    "    test_images = image_files[train_size + val_size:]\n",
    "\n",
    "    for img in train_images:\n",
    "        img_path = os.path.join(images_path, img)\n",
    "        label_path = os.path.join(labels_path, os.path.splitext(img)[0] + '.txt')\n",
    "        train_img_path = os.path.join(train_images_path, img)\n",
    "        train_label_path = os.path.join(train_labels_path, os.path.splitext(img)[0] + '.txt')\n",
    "\n",
    "        shutil.copy(img_path, train_img_path)\n",
    "        if os.path.exists(label_path):\n",
    "            shutil.copy(label_path, train_label_path)\n",
    "        else:\n",
    "            print(f\"Warning: Label file {label_path} not found.\")\n",
    "\n",
    "    for img in val_images:\n",
    "        img_path = os.path.join(images_path, img)\n",
    "        label_path = os.path.join(labels_path, os.path.splitext(img)[0] + '.txt')\n",
    "        val_img_path = os.path.join(val_images_path, img)\n",
    "        val_label_path = os.path.join(val_labels_path, os.path.splitext(img)[0] + '.txt')\n",
    "\n",
    "        shutil.copy(img_path, val_img_path)\n",
    "        if os.path.exists(label_path):\n",
    "            shutil.copy(label_path, val_label_path)\n",
    "        else:\n",
    "            print(f\"Warning: Label file {label_path} not found.\")\n",
    "\n",
    "    for img in test_images:\n",
    "        img_path = os.path.join(images_path, img)\n",
    "        label_path = os.path.join(labels_path, os.path.splitext(img)[0] + '.txt')\n",
    "        test_img_path = os.path.join(test_images_path, img)\n",
    "        test_label_path = os.path.join(test_labels_path, os.path.splitext(img)[0] + '.txt')\n",
    "\n",
    "        shutil.copy(img_path, test_img_path)\n",
    "        if os.path.exists(label_path):\n",
    "            shutil.copy(label_path, test_label_path)\n",
    "        else:\n",
    "            print(f\"Warning: Label file {label_path} not found.\")"
   ]
  },
  {
   "cell_type": "markdown",
   "metadata": {},
   "source": [
    "Folders to split the dataset into train, val and test"
   ]
  },
  {
   "cell_type": "code",
   "execution_count": 14,
   "metadata": {},
   "outputs": [],
   "source": [
    "dataset_path = 'datasets/artificial-mercosur-license-plates/'\n",
    "images_path = dataset_path + 'images'\n",
    "labels_path = dataset_path + 'labels'\n",
    "train_images_path = dataset_path + 'train/images'\n",
    "train_labels_path = dataset_path + 'train/labels'\n",
    "val_images_path = dataset_path + 'val/images'\n",
    "val_labels_path = dataset_path + 'val/labels'\n",
    "test_images_path = dataset_path + 'test/images'\n",
    "test_labels_path = dataset_path + 'test/labels'\n",
    "\n",
    "split_dataset(images_path, labels_path, train_images_path, train_labels_path, val_images_path, val_labels_path, test_images_path, test_labels_path)"
   ]
  },
  {
   "cell_type": "code",
   "execution_count": null,
   "metadata": {},
   "outputs": [],
   "source": []
  }
 ],
 "metadata": {
  "kernelspec": {
   "display_name": "yolo",
   "language": "python",
   "name": "python3"
  },
  "language_info": {
   "codemirror_mode": {
    "name": "ipython",
    "version": 3
   },
   "file_extension": ".py",
   "mimetype": "text/x-python",
   "name": "python",
   "nbconvert_exporter": "python",
   "pygments_lexer": "ipython3",
   "version": "3.8.20"
  }
 },
 "nbformat": 4,
 "nbformat_minor": 2
}
